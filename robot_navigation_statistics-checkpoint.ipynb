{
 "cells": [
  {
   "cell_type": "markdown",
   "metadata": {},
   "source": [
    "# Robot Navigation Statistics\n",
    "\n",
    "This Jupyter notebook contains code which reads in and explores the dataset we discussed in the seminar: navigation data from a mobile robot navigating in an office environment. You should read through the notebook and run each cell in turn. Try to best to understand the code as you run it, since your tasks will require you to alter and resuse it. \n",
    "\n",
    "Before goingn further we'll import some common maths and plotting libraries. If this step fails, please refer to the supporting material you were previously sent.\n"
   ]
  },
  {
   "cell_type": "code",
   "execution_count": 1,
   "metadata": {},
   "outputs": [],
   "source": [
    "import numpy as np\n",
    "import matplotlib.pyplot as plt\n",
    "%matplotlib inline"
   ]
  },
  {
   "cell_type": "markdown",
   "metadata": {},
   "source": [
    "The first thing we need to do is to read in the data set from the comma-separated values (csv) files. This uses the built-in csv functionality in Python, combined with file reading. When the file is read in all the values are read in as strings. To allow us to work with the data, we convert the data row-by-row into the native types. The `convert_row` method is specific to the data in this exercise. If you wish to use this approach for subsequent exercises you can copy this code and change the `convert_row` as appropriate."
   ]
  },
  {
   "cell_type": "code",
   "execution_count": 2,
   "metadata": {},
   "outputs": [],
   "source": [
    "import csv\n",
    "from datetime import datetime\n",
    "\n",
    "def convert_row(row):\n",
    "    \"\"\"\n",
    "    Take a row and convert the values to the known data types.\n",
    "    \"\"\"\n",
    "#     duration is in seconds\n",
    "    row['operation_time'] = float(row['operation_time'])\n",
    "    row['time_to_waypoint'] = float(row['time_to_waypoint'])\n",
    "#     dates are converted to datetime objects\n",
    "    row['date_started'] = datetime.strptime(row['date_started'], '%Y-%m-%d %H:%M:%S')\n",
    "    row['date_at_node'] = datetime.strptime(row['date_at_node'], '%Y-%m-%d %H:%M:%S')\n",
    "    row['date_finished'] = datetime.strptime(row['date_finished'], '%Y-%m-%d %H:%M:%S')\n",
    "# status of result is converted from a string/integer into a boolean \n",
    "    row['status_bin'] = (row['status_bin'] == '1')\n",
    "    \n",
    "    \n",
    "def read_records(filename):\n",
    "    \"\"\"\n",
    "    Read a CSV file into a list of dictionaries, where each \n",
    "    dictionary has keys taken from the column names in the file.\n",
    "    \"\"\"\n",
    "    records = []\n",
    "    with open(filename, newline='') as csvfile:\n",
    "        reader = csv.DictReader(csvfile)\n",
    "        for row in reader:\n",
    "            convert_row(row)            \n",
    "            records.append(row)\n",
    "\n",
    "    return records"
   ]
  },
  {
   "cell_type": "markdown",
   "metadata": {},
   "source": [
    "Now we use the above code to read in the navigation data from the csv file supplied"
   ]
  },
  {
   "cell_type": "code",
   "execution_count": 3,
   "metadata": {},
   "outputs": [
    {
     "name": "stdout",
     "output_type": "stream",
     "text": [
      "Read in 12648 records\n"
     ]
    }
   ],
   "source": [
    "data = read_records('../data/tsc_y3_nav_stats.csv')\n",
    "print('Read in {} records'.format(len(data)))\n",
    "\n"
   ]
  },
  {
   "cell_type": "markdown",
   "metadata": {},
   "source": [
    "And we can take a look at the first entry in the data set. We do this by printing the first element of the list `data` which contains all the data we read in."
   ]
  },
  {
   "cell_type": "code",
   "execution_count": 4,
   "metadata": {},
   "outputs": [
    {
     "name": "stdout",
     "output_type": "stream",
     "text": [
      "OrderedDict([('date_started', datetime.datetime(2016, 5, 23, 18, 45, 47)), ('status', 'success'), ('origin', 'WayPoint46'), ('target', 'WayPoint39'), ('final_node', 'WayPoint39'), ('edge_id', 'WayPoint46_WayPoint39'), ('date_finished', datetime.datetime(2016, 5, 23, 18, 46, 2)), ('date_at_node', datetime.datetime(2016, 5, 23, 18, 45, 56)), ('operation_time', 14.547985), ('time_to_waypoint', 5.41281), ('status_bin', True)])\n"
     ]
    }
   ],
   "source": [
    "print(data[0])"
   ]
  },
  {
   "cell_type": "markdown",
   "metadata": {},
   "source": [
    "This shows us the general structure of the data. Each data point is a sample of an attempt to navigate a edge in the robot's topological map. This is indicated by the `edge_id`. The navigation attempt starts from the `origin` node with the aim of reaching `target`. It may successfully reach that node, or it may end up somewhere else. The place it ends up is `final_node`. Each node is a 2D point plus an *influence zone* which is an area around that point. The `operation_time` field indicates the duration (in seconds) of the navigation action until the influence zone is reached. The `time_to_waypoint` is the time spend in the navigation action after the influence zone is reached until the action is terminated. Termination conditions may be the robot reaching the 2D waypoint for the node, having a new action superseding the current one, or failing (in which case the action is cancelled by another process due to a timeout or another failure condition). These durations can be matched to the dates as follows, `operation_time = date_finished - date_started`, `time_to_waypoint = date_finished - date_at_node` but they were  recorded with sub-second accuracy."
   ]
  },
  {
   "cell_type": "markdown",
   "metadata": {},
   "source": [
    "# Data Overview\n",
    "\n",
    "When working with data, it is important to start by getting a general sense of the nature of that data. We can start by asking how many times each edge was traversed. We will do this by grouping the dataset by `edge_id`. The code below creates a dictionary where each value is a list of data entries, and the key for that entry is the value of the field. \n"
   ]
  },
  {
   "cell_type": "code",
   "execution_count": 5,
   "metadata": {},
   "outputs": [],
   "source": [
    "def group_data_by_field(datalist, field):\n",
    "    \"\"\"\n",
    "    Given a list of dictionaries, return a dictionary of lists where each sublist contains all dictionaries with the same value of that field, and the key of that entry is that value.\n",
    "    \"\"\"\n",
    "    output = dict()\n",
    "    for d in datalist:\n",
    "        # get the value of the field for this entry\n",
    "        field_value = d[field]\n",
    "        # if this value has not been seen before, create a new output entry for it\n",
    "        if field_value not in output:\n",
    "            output[field_value] = []\n",
    "        # append the entry to the list for this field value\n",
    "        output[field_value].append(d)\n",
    "    return output\n",
    "        "
   ]
  },
  {
   "cell_type": "markdown",
   "metadata": {},
   "source": [
    "We now use this function to group the data by `edge_id`, so the result will be a mapping from each `edge_id` to a list of the data entries for that id."
   ]
  },
  {
   "cell_type": "code",
   "execution_count": 6,
   "metadata": {},
   "outputs": [],
   "source": [
    "edge_groups = group_data_by_field(data, 'edge_id')"
   ]
  },
  {
   "cell_type": "markdown",
   "metadata": {},
   "source": [
    "Let's now count now many nav stats (i.e. data entries) we have for each edge. We'll do this by creating a new dictionary that maps from edge ids to counts. Before looking at the code below feel free to attempt this yourself, or at least consider how you would need to implement it.\n"
   ]
  },
  {
   "cell_type": "code",
   "execution_count": 7,
   "metadata": {},
   "outputs": [],
   "source": [
    "edge_counts = dict()\n",
    "for edge_id, stat_list in edge_groups.items():\n",
    "    edge_counts[edge_id] = len(stat_list)    "
   ]
  },
  {
   "cell_type": "markdown",
   "metadata": {},
   "source": [
    "We can also write the same code in one line using a *dictionary comprehension* as follows"
   ]
  },
  {
   "cell_type": "code",
   "execution_count": 8,
   "metadata": {},
   "outputs": [],
   "source": [
    "edge_counts = {edge_id: len(stat_list) for edge_id, stat_list in edge_groups.items()}"
   ]
  },
  {
   "cell_type": "markdown",
   "metadata": {},
   "source": [
    "This allows us to query the data for the number of data points per edge, e.g."
   ]
  },
  {
   "cell_type": "code",
   "execution_count": 9,
   "metadata": {},
   "outputs": [
    {
     "data": {
      "text/plain": [
       "'Edge SuppPrintCopy_SuppLocker6 has 3 entries'"
      ]
     },
     "execution_count": 9,
     "metadata": {},
     "output_type": "execute_result"
    }
   ],
   "source": [
    "'Edge {} has {} entries'.format('SuppPrintCopy_SuppLocker6', edge_counts['SuppPrintCopy_SuppLocker6'])"
   ]
  },
  {
   "cell_type": "markdown",
   "metadata": {},
   "source": [
    "More usefully, we can visualise the count data as a histgram. To do this we'll need paired lists of edge IDs and counts. "
   ]
  },
  {
   "cell_type": "code",
   "execution_count": 10,
   "metadata": {},
   "outputs": [],
   "source": [
    "edge_ids = list(edge_counts.keys())\n",
    "counts  = list(edge_counts.values())"
   ]
  },
  {
   "cell_type": "code",
   "execution_count": 11,
   "metadata": {},
   "outputs": [
    {
     "data": {
      "text/plain": [
       "<BarContainer object of 450 artists>"
      ]
     },
     "execution_count": 11,
     "metadata": {},
     "output_type": "execute_result"
    },
    {
     "data": {
      "image/png": "[encoded data removed]",
      "text/plain": [
       "<Figure size 432x288 with 1 Axes>"
      ]
     },
     "metadata": {
      "needs_background": "light"
     },
     "output_type": "display_data"
    }
   ],
   "source": [
    "plt.bar(edge_ids, counts)"
   ]
  },
  {
   "cell_type": "markdown",
   "metadata": {},
   "source": [
    "That's a bit ugly. To make it easier to extract information from, let's start by sorting the data. First we produce a list of (edge_id, count) pairs, then we sort that list. We can verify that this has worked as expected by printing the first and lest element of the list."
   ]
  },
  {
   "cell_type": "code",
   "execution_count": 12,
   "metadata": {},
   "outputs": [
    {
     "name": "stdout",
     "output_type": "stream",
     "text": [
      "('SuppLocker13_SuppLocker14', 901) ('NarrowGlass2_CorpTransWP3', 1)\n"
     ]
    }
   ],
   "source": [
    "edge_count_list = [(edge_id, len(stat_list)) for edge_id, stat_list in edge_groups.items()]\n",
    "edge_count_list.sort(key=lambda x:x[1], reverse=True)\n",
    "print(edge_count_list[0], edge_count_list[-1])\n"
   ]
  },
  {
   "cell_type": "markdown",
   "metadata": {},
   "source": [
    "We then need to extract the first element of every pair (a pair is also called a tuple) back into a list of edge ids, and a the second elements into the count list."
   ]
  },
  {
   "cell_type": "code",
   "execution_count": 13,
   "metadata": {},
   "outputs": [],
   "source": [
    "edge_ids = []\n",
    "counts = []\n",
    "for tupl in edge_count_list:\n",
    "    edge_ids.append(tupl[0])\n",
    "    counts.append(tupl[1])"
   ]
  },
  {
   "cell_type": "markdown",
   "metadata": {},
   "source": [
    "We could also do this by unpacking the pairs and using the built in `zip` function to create the two lists we want for plotting. This is less easy to read but is a good example of some in-build Python functionality.\n",
    "    "
   ]
  },
  {
   "cell_type": "code",
   "execution_count": 14,
   "metadata": {},
   "outputs": [],
   "source": [
    "zipped_list = list(zip(*edge_count_list))\n",
    "edge_ids = zipped_list[0]\n",
    "counts = zipped_list[1]"
   ]
  },
  {
   "cell_type": "markdown",
   "metadata": {},
   "source": [
    "Whichever way we create the lists, we can now produce a bar chart that looks a bit cleaner. We'll also remove the labels from the x axis, which are impossible to read anyway."
   ]
  },
  {
   "cell_type": "code",
   "execution_count": 15,
   "metadata": {},
   "outputs": [
    {
     "data": {
      "text/plain": [
       "Text(0.5, 1.0, 'Edge data counts')"
      ]
     },
     "execution_count": 15,
     "metadata": {},
     "output_type": "execute_result"
    },
    {
     "data": {
      "image/png": "[encoded data removed]",
      "text/plain": [
       "<Figure size 432x288 with 1 Axes>"
      ]
     },
     "metadata": {
      "needs_background": "light"
     },
     "output_type": "display_data"
    }
   ],
   "source": [
    "plt.bar(edge_ids, counts)\n",
    "plt.xticks([])\n",
    "plt.ylabel('Count')\n",
    "plt.title('Edge data counts')"
   ]
  },
  {
   "cell_type": "markdown",
   "metadata": {},
   "source": [
    "There are clearly some interesting edges which have significantly more visits than the the others. Let's look at the top 10."
   ]
  },
  {
   "cell_type": "code",
   "execution_count": 16,
   "metadata": {},
   "outputs": [
    {
     "data": {
      "text/plain": [
       "([0, 1, 2, 3, 4, 5, 6, 7, 8, 9], <a list of 10 Text xticklabel objects>)"
      ]
     },
     "execution_count": 16,
     "metadata": {},
     "output_type": "execute_result"
    },
    {
     "data": {
      "image/png": "[encoded data removed]",
      "text/plain": [
       "<Figure size 432x288 with 1 Axes>"
      ]
     },
     "metadata": {
      "needs_background": "light"
     },
     "output_type": "display_data"
    }
   ],
   "source": [
    "edge_ids = edge_ids[:10]\n",
    "counts = counts[:10]\n",
    "plt.bar(edge_ids, counts)\n",
    "\n",
    "plt.ylabel('Count')\n",
    "plt.title('Top 10 edge data counts')\n",
    "plt.xticks(rotation=90)"
   ]
  },
  {
   "cell_type": "markdown",
   "metadata": {},
   "source": [
    "## Tasks\n",
    "\n",
    "Write code to complete as many of the following tasks as you want. You may use external libraries (e.g. numpy) if you wish.\n",
    "1. Print out the edges with the maximum and minimum number of visits.\n",
    "1. Plot a histogram with the 20 fewest datapoints.\n",
    "1. Determine the mean, median, and mode number of nav stats per edge.\n",
    "1. Adapt the histograph above so that each bar has a green part for the count of successful navigation actions, and a red part for a count of the unsuccessful ones. You can use the `status_bin` field for this.\n",
    "\n"
   ]
  },
  {
   "cell_type": "code",
   "execution_count": 17,
   "metadata": {},
   "outputs": [
    {
     "name": "stdout",
     "output_type": "stream",
     "text": [
      "maximum is SuppLocker13_SuppLocker14 \n",
      "minimum is NarrowGlass2_CorpTransWP3\n"
     ]
    }
   ],
   "source": [
    "# 1\n",
    "edge_ids = zipped_list[0]\n",
    "counts = zipped_list[1]\n",
    "print(\"maximum is\", edge_count_list[0][0], \"\\nminimum is\", edge_count_list[-1][0])"
   ]
  },
  {
   "cell_type": "code",
   "execution_count": 18,
   "metadata": {},
   "outputs": [
    {
     "data": {
      "text/plain": [
       "'x = [1]\\nplt.hist(x, bins = 20)\\nplt.show()\\n\\ndata_points = group_data_by_field(data, \"target\")'"
      ]
     },
     "execution_count": 18,
     "metadata": {},
     "output_type": "execute_result"
    }
   ],
   "source": [
    "# 2\n",
    "'''x = [1]\n",
    "plt.hist(x, bins = 20)\n",
    "plt.show()\n",
    "\n",
    "data_points = group_data_by_field(data, \"target\")'''"
   ]
  },
  {
   "cell_type": "code",
   "execution_count": 19,
   "metadata": {},
   "outputs": [
    {
     "name": "stdout",
     "output_type": "stream",
     "text": [
      "mean is 28.0\n",
      "median is 7.0\n",
      "mode is [1]\n"
     ]
    }
   ],
   "source": [
    "# 3 \n",
    "from scipy import stats\n",
    "\n",
    "\n",
    "def median(d):\n",
    "    x = (len(d) + 1) / 2\n",
    "    y = (len(d) + 1) // 2\n",
    "    if type(x) == int:\n",
    "        return d[x][1]\n",
    "    elif type(x) == float:\n",
    "        s = (d[y][1] +d[y+1][1]) / 2\n",
    "        return s\n",
    "\n",
    "\n",
    "\n",
    "print(\"mean is\", round(np.mean(counts)))\n",
    "print(\"median is\", median(edge_count_list))\n",
    "print(\"mode is\", stats.mode(counts)[0])"
   ]
  },
  {
   "cell_type": "code",
   "execution_count": null,
   "metadata": {},
   "outputs": [],
   "source": []
  },
  {
   "cell_type": "markdown",
   "metadata": {},
   "source": [
    "# Edge Durations\n",
    "\n",
    "When we are using this navigation data to build a Markov decision process to plan robot navigation routes, we are interested in two properties of this data: the duration of the navigation action, and whether the action is likely to succeed or not. We can now move on to looking at these features of each edge. \n"
   ]
  },
  {
   "cell_type": "markdown",
   "metadata": {},
   "source": [
    "To start with we'll build a list of (operation_time, operation_succeeded) pairs for every action on each edge. This will allow us to consider that data together more easily later."
   ]
  },
  {
   "cell_type": "code",
   "execution_count": 20,
   "metadata": {},
   "outputs": [],
   "source": [
    "edge_operation_data = dict()\n",
    "\n",
    "for edge_id, rows in edge_groups.items():    \n",
    "    edge_operation_data[edge_id] = [(r['operation_time'], r['date_started'], r['status_bin']) for r in rows]\n",
    "    "
   ]
  },
  {
   "cell_type": "markdown",
   "metadata": {},
   "source": [
    "Next, let's choose an edge to focus on for some analysis. Focussing on one part of your dataset can allow you get a better handle on your dataset, but be careful not to make unwarranted generalisations to other parts. In this case we're going to focus on one of the edges with lots of data, 'SuppLockOutside_KitchenEntrance'."
   ]
  },
  {
   "cell_type": "code",
   "execution_count": 21,
   "metadata": {},
   "outputs": [],
   "source": [
    "focus_edge = 'SuppLockOutside_KitchenEntrance'"
   ]
  },
  {
   "cell_type": "markdown",
   "metadata": {},
   "source": [
    "To get an initial feel for the operation duration data on this edge, let's start by plotting a histogram of the operation times. matplotlib can do this for us automatically, and we can choose how many bins we have for the data."
   ]
  },
  {
   "cell_type": "code",
   "execution_count": 43,
   "metadata": {},
   "outputs": [
    {
     "data": {
      "text/plain": [
       "Text(0.5, 0, 'Operation Duration (secs)')"
      ]
     },
     "execution_count": 43,
     "metadata": {},
     "output_type": "execute_result"
    },
    {
     "data": {
      "image/png": "[encoded data removed]",
      "text/plain": [
       "<Figure size 432x288 with 1 Axes>"
      ]
     },
     "metadata": {
      "needs_background": "light"
     },
     "output_type": "display_data"
    }
   ],
   "source": [
    "# as above, extract a new list containing the 0th element of every tuple in edge_operation_data\n",
    "zip_list = list(zip(*edge_operation_data[focus_edge]))\n",
    "durations = list(zip_list[0])\n",
    "# plot the durations\n",
    "plt.hist(durations, bins=20)\n",
    "plt.ylabel('Count')\n",
    "plt.xlabel('Operation Duration (secs)')"
   ]
  },
  {
   "cell_type": "markdown",
   "metadata": {},
   "source": [
    "This shows what you may expect to find in such data: the majority of the durations are clustered around a small range. This probably represents the robot having a relatively stress-free time when navigating. We also see some *outliers*, i.e. data that falls outside the range where the majority of the data lies. Since the histogram doesn't really allow us to see how many datapoints are in this 'tail', let's plot the operation times against the time they occurred. This second variable isn't important (for now), but it allows us to spread the data out naturally."
   ]
  },
  {
   "cell_type": "code",
   "execution_count": 23,
   "metadata": {},
   "outputs": [
    {
     "data": {
      "text/plain": [
       "Text(0, 0.5, 'Duration (secs)')"
      ]
     },
     "execution_count": 23,
     "metadata": {},
     "output_type": "execute_result"
    },
    {
     "data": {
      "image/png": "[encoded data removed]",
      "text/plain": [
       "<Figure size 432x288 with 1 Axes>"
      ]
     },
     "metadata": {
      "needs_background": "light"
     },
     "output_type": "display_data"
    }
   ],
   "source": [
    "dates = list(zip_list[1])\n",
    "\n",
    "plt.scatter(dates, durations)\n",
    "plt.xticks(rotation=90)\n",
    "plt.xlabel('Start Date')\n",
    "plt.ylabel('Duration (secs)')"
   ]
  },
  {
   "cell_type": "markdown",
   "metadata": {},
   "source": [
    "This more clearly shows the outliers. Since we are working with a research (i.e. bug-ridden) autonomous robot in a human-populated environment, it is likely that there were some unexpected outcomes from the navigation actions, such as component malfunctions, or humans actively trying to slow the robot down. Therefore we shall take a common approach in data science and filter out the outliers. We will do this by throwing away (or filtering out) any value that is more than some number (e.g. 3) standard deviations away from the mean of the dataset. The function below does this for a list of values (which will be durations), and a paired second list (the dates). \n"
   ]
  },
  {
   "cell_type": "code",
   "execution_count": 24,
   "metadata": {},
   "outputs": [],
   "source": [
    "def remove_outliers(values, other, n_std=3):\n",
    "    \"\"\"\n",
    "    Remove outlier values from the values and other list. \n",
    "    \n",
    "    Outliers are defined as n_std standard deviations from the mean\n",
    "    \"\"\"\n",
    "    mean = np.mean(values)\n",
    "    stdev = np.std(values)\n",
    "    \n",
    "    print('The data has mean', mean, 'seconds, with a standard deviation of', stdev)\n",
    "\n",
    "    # these are going to be items we need to remove from the list\n",
    "    indexes_to_remove = []\n",
    "\n",
    "    # bonus points for anyone that works out why \"reversed\" is needed here\n",
    "\n",
    "    # for each duration\n",
    "    for i in reversed(range(len(values))):\n",
    "        value = values[i]\n",
    "        # check if the values is greater than two standard deviations from the mean\n",
    "        if np.abs(value - mean) > (stdev*n_std):\n",
    "            indexes_to_remove.append(i)\n",
    "\n",
    "    # delete the elements we don't want      \n",
    "    for i in indexes_to_remove:\n",
    "        del values[i]\n",
    "        del other[i] "
   ]
  },
  {
   "cell_type": "markdown",
   "metadata": {},
   "source": [
    "Next we apply this function to the data we used for the scatter plot, navigation durations and their dates."
   ]
  },
  {
   "cell_type": "code",
   "execution_count": 25,
   "metadata": {},
   "outputs": [
    {
     "name": "stdout",
     "output_type": "stream",
     "text": [
      "The data has mean 18.092935776595745 seconds, with a standard deviation of 11.934341397241583\n"
     ]
    }
   ],
   "source": [
    "remove_outliers(durations, dates)"
   ]
  },
  {
   "cell_type": "markdown",
   "metadata": {},
   "source": [
    "We can now plot the data with the out-of-distribution values removed. "
   ]
  },
  {
   "cell_type": "code",
   "execution_count": 26,
   "metadata": {},
   "outputs": [
    {
     "data": {
      "text/plain": [
       "Text(0, 0.5, 'Duration (secs)')"
      ]
     },
     "execution_count": 26,
     "metadata": {},
     "output_type": "execute_result"
    },
    {
     "data": {
      "image/png": "[encoded data removed]",
      "text/plain": [
       "<Figure size 432x288 with 1 Axes>"
      ]
     },
     "metadata": {
      "needs_background": "light"
     },
     "output_type": "display_data"
    }
   ],
   "source": [
    "plt.scatter(dates, durations)\n",
    "plt.xticks(rotation=90)\n",
    "plt.xlabel('Start Date')\n",
    "plt.ylabel('Duration (secs)')"
   ]
  },
  {
   "cell_type": "markdown",
   "metadata": {},
   "source": [
    "This now looks a lot better since we've got ride of some of the very high values that looked to be due to very unexpected robot behaviour or environment configurations. But was that the right thing to do? At this point it's important to bring in some understanding of the process which generated the data. When a robot navigates we expect some variation in duration, and occasionally we expect large variations due to people moving around the robot, or possibly hardware or software failures. When we filtered out large values we assumed that all these conditions should follow the same distribution (i.e. be based around the same mean), but is that a valid assumption? My answer is no. We can check this by scattering the data again, but this time colouring the failed transitions differently to the successful ones.\n",
    "\n",
    "To do this we can go back through the data and build two lists: succeeded navigations and failed ones."
   ]
  },
  {
   "cell_type": "code",
   "execution_count": 27,
   "metadata": {},
   "outputs": [],
   "source": [
    "successful_durations = []\n",
    "failed_durations = []\n",
    "successful_dates = []\n",
    "failed_dates = []\n",
    "\n",
    "# for each (operation_time, date, success) tuple\n",
    "for tupl in edge_operation_data[focus_edge]:\n",
    "    # if stat was a success\n",
    "    if tupl[2]:\n",
    "        successful_durations.append(tupl[0])\n",
    "        successful_dates.append(tupl[1])\n",
    "    else:\n",
    "        failed_durations.append(tupl[0])\n",
    "        failed_dates.append(tupl[1])\n",
    "    "
   ]
  },
  {
   "cell_type": "markdown",
   "metadata": {},
   "source": [
    "Now we can plot this two lists separately"
   ]
  },
  {
   "cell_type": "code",
   "execution_count": 28,
   "metadata": {},
   "outputs": [
    {
     "data": {
      "text/plain": [
       "<matplotlib.legend.Legend at 0x1fb0497a288>"
      ]
     },
     "execution_count": 28,
     "metadata": {},
     "output_type": "execute_result"
    },
    {
     "data": {
      "image/png": "[encoded data removed]",
      "text/plain": [
       "<Figure size 432x288 with 1 Axes>"
      ]
     },
     "metadata": {
      "needs_background": "light"
     },
     "output_type": "display_data"
    }
   ],
   "source": [
    "plt.scatter(successful_dates, successful_durations, label='Successes')\n",
    "plt.scatter(failed_dates, failed_durations, label='Failures')\n",
    "plt.xticks(rotation=90)\n",
    "plt.xlabel('Start Date')\n",
    "plt.ylabel('Duration (secs)')\n",
    "plt.legend()"
   ]
  },
  {
   "cell_type": "markdown",
   "metadata": {},
   "source": [
    "The results are quite striking! The failures appear to follow quite a different distribution to the successes. Failures can take much longer than successes (e.g. as the robot repeatedly tries to pass an obstacle) but can also be quicker (as some catesrophic condition is encountered). The success value that is around 140 seconds does look like a true oulier, we should reapply our filtering to each distribution separately."
   ]
  },
  {
   "cell_type": "code",
   "execution_count": 29,
   "metadata": {},
   "outputs": [
    {
     "name": "stdout",
     "output_type": "stream",
     "text": [
      "The data has mean 18.41138783139535 seconds, with a standard deviation of 10.436509071708924\n",
      "The data has mean 14.669576187499999 seconds, with a standard deviation of 22.13204926958299\n"
     ]
    }
   ],
   "source": [
    "remove_outliers(successful_durations, successful_dates)\n",
    "remove_outliers(failed_durations, failed_dates)\n"
   ]
  },
  {
   "cell_type": "code",
   "execution_count": 30,
   "metadata": {},
   "outputs": [
    {
     "data": {
      "text/plain": [
       "<matplotlib.legend.Legend at 0x1fb049e9888>"
      ]
     },
     "execution_count": 30,
     "metadata": {},
     "output_type": "execute_result"
    },
    {
     "data": {
      "image/png": "[encoded data removed]",
      "text/plain": [
       "<Figure size 432x288 with 1 Axes>"
      ]
     },
     "metadata": {
      "needs_background": "light"
     },
     "output_type": "display_data"
    }
   ],
   "source": [
    "plt.scatter(successful_dates, successful_durations, label='Successes')\n",
    "plt.scatter(failed_dates, failed_durations, label='Failures')\n",
    "plt.xticks(rotation=90)\n",
    "plt.xlabel('Start Date')\n",
    "plt.ylabel('Duration (secs)')\n",
    "plt.legend()"
   ]
  },
  {
   "cell_type": "markdown",
   "metadata": {},
   "source": [
    "This results reflects reality a bit better. The successes are reasonably tightly distributed, but the failures are more widely spread. One curious fact remains: there are two very quick successes. Given this is a physical device with a fixed top speed, there should be a minimum successful duration. This appears to be a touch over 10 seconds from the plot. I would therefore also be tempted to filter out unrealistically fast points from this dataset too."
   ]
  },
  {
   "cell_type": "markdown",
   "metadata": {},
   "source": [
    "If you recall from the seminar, we are processing this data in order to plan future actions of the robot. In order to do that we must *generalise* from the data we have observed in order to *predict* future navigation outcomes. This is beyond the scope of this session, but I will provide one example of how to do it. To build a Markov decision process that models time, we want to predict the *probability* of a particular duration occurring. If we want a discrete model we can use normalise our earlier histogram plot such that the sum of all counts is 1. This turns it into a probability distribution. If we want a continuous distribuion, we must perform something called *density estimation* which estimate a continuous probabilitiy density function from a set of samples. Examples of applying both of these processes are presented below."
   ]
  },
  {
   "cell_type": "code",
   "execution_count": 31,
   "metadata": {},
   "outputs": [
    {
     "data": {
      "text/plain": [
       "Text(0, 0.5, 'Probability of Duration P(D) ')"
      ]
     },
     "execution_count": 31,
     "metadata": {},
     "output_type": "execute_result"
    },
    {
     "data": {
      "image/png": "[encoded data removed]",
      "text/plain": [
       "<Figure size 432x288 with 1 Axes>"
      ]
     },
     "metadata": {
      "needs_background": "light"
     },
     "output_type": "display_data"
    }
   ],
   "source": [
    "from scipy import stats\n",
    "\n",
    "# create a kernel density estimator for the data\n",
    "kde = stats.gaussian_kde(successful_durations)\n",
    "\n",
    "# define the linear space over which we will plot the output\n",
    "xs = np.linspace(0, np.max(successful_durations)+10, num=100)\n",
    "# evaluate the probability density value over the output space\n",
    "y = kde(xs) \n",
    "# plot the estimation\n",
    "plt.plot(xs, y)\n",
    "# overlay the probability distribution histogram\n",
    "plt.hist(successful_durations, density=True, bins=20)\n",
    "plt.title('Probability Distribution of Duration for Succcess for {}'.format(focus_edge) )\n",
    "plt.xlabel('Duration (secs)')\n",
    "plt.ylabel('Probability of Duration P(D) ')\n",
    "           "
   ]
  },
  {
   "cell_type": "markdown",
   "metadata": {},
   "source": [
    "This plot captures the intuition we've been following: values outside of range 10-30 are highly unlikely. There is also an interesting feature that was not visible on the earlier histogram: the success duration appears to have two *modes*, or two peaks in the distribution. This could reflect something about the physical process, e.g. that there are two different routes the robot follows between these edges, or that the faster mode occurs when the space unpopulated by pesky humans."
   ]
  },
  {
   "cell_type": "markdown",
   "metadata": {},
   "source": [
    "## Tasks\n",
    "\n",
    "Write code to complete as many of the following tasks as you want. You may use external libraries (e.g. numpy, scipy) if you wish. The tasks are presented in increasing difficulty. I hope that every attempts at least the first one or two.\n",
    "\n",
    "1. Find the edges in the dataset with the lowest and highest mean operation time, calculated over both successful and failed actions (this is known as the expected duration of the edge).  As a hint you should start with a for loop over the items in `edge_operation_data` dictionary. Inside that loop you should include some of the operations I wrote in separate cells above (e.g. extracting all the durations, calculating their mean, etc). \n",
    "1. Find the edges in the dataset with the lowest and highest success rate, i.e. the ratio of successful to failed statistics. This can be considered the (frequentist) probability of success for that edge. \n",
    "1. Design a way to determine if two edges are similar to each other, e.g. using some of the measures of duration and success we've used previously.\n",
    "1. Using this measure, produce a ranked list of the most similar edges. Are edges that join the same two nodes but in opposite directions similar?\n",
    "\n",
    "\n",
    "More open-ended, challenging tasks for those more comfortable with Python and/or statistics. These are not in any particular order.\n",
    "\n",
    "1. Find more edges with suspicious successes (e.g. highly unlikely fast successes). \n",
    "1. Find more edges with multiple modes in their duration data, e.g. by looking at the rate of change of the y values in the density estimation.\n",
    "1. Explore the difference between operation_time and time_to_waypoint. Do you see any interesting patterns?\n",
    "1. Is there any dependency between time of day or day of the week and operation time or success rate?\n"
   ]
  },
  {
   "cell_type": "code",
   "execution_count": 77,
   "metadata": {},
   "outputs": [
    {
     "name": "stdout",
     "output_type": "stream",
     "text": [
      "edge with smallest mean duration is CorpLocker1_CorpLocker5 with mean 1.35 seconds\n",
      "edge with largest mean duration is Station1_ChargingPoint1 with mean 94.61 seconds\n"
     ]
    }
   ],
   "source": [
    "#1\n",
    "\n",
    "means = []\n",
    "edges = []\n",
    "for edge in edge_operation_data.keys():\n",
    "    \n",
    "    zip_list = list(zip(*edge_operation_data[edge]))\n",
    "    durations = list(zip_list[0])\n",
    "    mean = round(sum(durations) / len(durations), 2)\n",
    "    means.append(mean)\n",
    "    edges.append(edge)\n",
    "\n",
    "    \n",
    "result = {}\n",
    "for key in edges:\n",
    "    for value in means:\n",
    "        result[key] = value\n",
    "        means.remove(value)\n",
    "        break  \n",
    "            \n",
    "sorted_result = sorted(result.items(), key=lambda item: item[1])\n",
    "\n",
    "print(\"edge with smallest mean duration is\", sorted_result[0][0], \"with mean\", sorted_result[0][1], \"seconds\")\n",
    "print(\"edge with largest mean duration is\", sorted_result[-1][0], \"with mean\", sorted_result[-1][1], \"seconds\")"
   ]
  },
  {
   "cell_type": "code",
   "execution_count": 80,
   "metadata": {},
   "outputs": [
    {
     "name": "stdout",
     "output_type": "stream",
     "text": [
      "The edge with the lowest success rate is WayPoint9_WayPoint13 with success:fail ratio 0.0\n",
      "The edge with the greatest success rate is SuppLocker5_SuppLocker7 with success:fail ratio 782.0\n"
     ]
    }
   ],
   "source": [
    "#2\n",
    "success_counter = 0\n",
    "fail_counter = 0\n",
    "ratios = []\n",
    "edges = []\n",
    "\n",
    "for edge in edge_operation_data.keys():\n",
    "    zip_list = list(zip(*edge_operation_data[edge]))\n",
    "    result = list(zip_list[2])\n",
    "    \n",
    "    for val in result:\n",
    "        if val == True:\n",
    "            success_counter += 1\n",
    "        else:\n",
    "            fail_counter += 1\n",
    "    \n",
    "    if fail_counter > 0:\n",
    "        ratio = success_counter / fail_counter\n",
    "    else:\n",
    "        ratio = success_counter   \n",
    "    \n",
    "    ratios.append(ratio)\n",
    "    edges.append(edge)\n",
    "    \n",
    "    fail_counter = 0\n",
    "    success_counter = 0\n",
    "\n",
    "    edge_with_ratio = {}\n",
    "for key in edges:\n",
    "    for value in ratios:\n",
    "        edge_with_ratio[key] = value\n",
    "        ratios.remove(value)\n",
    "        break \n",
    "    \n",
    "sorted_edge_with_ratio = sorted(edge_with_ratio.items(), key=lambda item: item[1])            \n",
    "    \n",
    "\n",
    "print(\"The edge with the lowest success rate is\", sorted_edge_with_ratio[0][0], \"with success:fail ratio\", sorted_edge_with_ratio[0][1])\n",
    "print(\"The edge with the greatest success rate is\", sorted_edge_with_ratio[-1][0], \"with success:fail ratio\", sorted_edge_with_ratio[-1][1])   \n"
   ]
  },
  {
   "cell_type": "code",
   "execution_count": null,
   "metadata": {},
   "outputs": [],
   "source": []
  }
 ],
 "metadata": {
  "kernelspec": {
   "display_name": "Python 3",
   "language": "python",
   "name": "python3"
  },
  "language_info": {
   "codemirror_mode": {
    "name": "ipython",
    "version": 3
   },
   "file_extension": ".py",
   "mimetype": "text/x-python",
   "name": "python",
   "nbconvert_exporter": "python",
   "pygments_lexer": "ipython3",
   "version": "3.7.6"
  }
 },
 "nbformat": 4,
 "nbformat_minor": 4
}
