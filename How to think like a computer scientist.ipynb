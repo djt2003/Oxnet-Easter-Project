{
 "cells": [
  {
   "cell_type": "markdown",
   "metadata": {},
   "source": [
    "# Chapter 6: Fruitful functions"
   ]
  },
  {
   "cell_type": "code",
   "execution_count": 1,
   "metadata": {},
   "outputs": [
    {
     "name": "stdout",
     "output_type": "stream",
     "text": [
      "Test at line 15 ok.\n",
      "Test at line 16 ok.\n",
      "Test at line 17 ok.\n",
      "Test at line 18 ok.\n",
      "Enter direction N\n",
      "Your new direction is E\n"
     ]
    }
   ],
   "source": [
    "#task 1\n",
    "import sys\n",
    "\n",
    "def test(did_pass):\n",
    "    \"\"\"  Print the result of a test.  \"\"\"\n",
    "    linenum = sys._getframe(1).f_lineno   # Get the caller's line number.\n",
    "    if did_pass:\n",
    "        msg = \"Test at line {0} ok.\".format(linenum)\n",
    "    else:\n",
    "        msg = (\"Test at line {0} FAILED.\".format(linenum))\n",
    "    print(msg)\n",
    "    \n",
    "    \n",
    "def test_suite():\n",
    "    test(turn_clockwise(\"N\") == \"E\")\n",
    "    test(turn_clockwise(\"E\") == \"S\")\n",
    "    test(turn_clockwise(\"S\") == \"W\")\n",
    "    test(turn_clockwise(\"W\") == \"N\")\n",
    "    \n",
    "\n",
    "def turn_clockwise(d):\n",
    "    if d == \"N\":\n",
    "        return \"E\"\n",
    "    elif d == \"E\":\n",
    "        return \"S\"\n",
    "    elif d == \"S\":\n",
    "        return \"W\"\n",
    "    elif d == \"W\":\n",
    "        return \"N\"\n",
    "    else:\n",
    "        return \"Please enter valid direction\"\n",
    "    \n",
    "    \n",
    "test_suite()\n",
    "print(\"Your new direction is\", turn_clockwise(input(\"Enter direction \")))\n",
    "\n",
    "\n"
   ]
  },
  {
   "cell_type": "code",
   "execution_count": 2,
   "metadata": {},
   "outputs": [
    {
     "name": "stdout",
     "output_type": "stream",
     "text": [
      "Test at line 4 ok.\n",
      "Test at line 5 ok.\n",
      "Test at line 6 ok.\n",
      "Enter number of your day 6\n",
      "Saturday\n"
     ]
    }
   ],
   "source": [
    "#task 2\n",
    "\n",
    "def test_suite2():\n",
    "    test(day_name(0) == \"Sunday\")\n",
    "    test(day_name(5) == \"Friday\")\n",
    "    test(day_name(8) == None)\n",
    "\n",
    "    \n",
    "    \n",
    "def day_name(n):\n",
    "    if n == 0:\n",
    "        return \"Sunday\"\n",
    "    elif n == 1:\n",
    "        return \"Monday\"\n",
    "    elif n == 2:\n",
    "        return \"Tuesday\"\n",
    "    elif n == 3:\n",
    "        return \"Wednesday\"\n",
    "    elif n == 4:\n",
    "        return \"Thursday\"\n",
    "    elif n == 5:\n",
    "        return \"Friday\"\n",
    "    elif n == 6:\n",
    "        return \"Saturday\"\n",
    "    else:\n",
    "        return\n",
    "\n",
    "test_suite2()\n",
    "print(day_name(int(input(\"Enter number of your day \"))))\n"
   ]
  },
  {
   "cell_type": "code",
   "execution_count": 3,
   "metadata": {},
   "outputs": [
    {
     "name": "stdout",
     "output_type": "stream",
     "text": [
      "Test at line 22 ok.\n",
      "Test at line 23 ok.\n",
      "Test at line 24 ok.\n",
      "Test at line 25 ok.\n",
      "Test at line 26 ok.\n"
     ]
    }
   ],
   "source": [
    "#task 3\n",
    "\n",
    "def day_num(d):\n",
    "    if d == \"Sunday\":\n",
    "        return 0\n",
    "    elif d == \"Monday\":\n",
    "        return 1\n",
    "    elif d == \"Tuesday\":\n",
    "        return 2\n",
    "    elif d == \"Wednesday\":\n",
    "        return 3\n",
    "    elif d == \"Thursday\":\n",
    "        return 4\n",
    "    elif d == \"Friday\":\n",
    "        return 5\n",
    "    elif d == \"Saturday\":\n",
    "        return 6\n",
    "    else:\n",
    "        return\n",
    "\n",
    "def test_suite3():\n",
    "    test(day_num(\"Friday\") == 5)\n",
    "    test(day_num(\"Sunday\") == 0)\n",
    "    test(day_num(day_name(3)) == 3)\n",
    "    test(day_name(day_num(\"Thursday\")) == \"Thursday\")\n",
    "    test(day_num(\"Halloween\") == None)\n",
    "    \n",
    "\n",
    "test_suite3()"
   ]
  },
  {
   "cell_type": "code",
   "execution_count": 4,
   "metadata": {},
   "outputs": [
    {
     "name": "stdout",
     "output_type": "stream",
     "text": [
      "Test at line 8 ok.\n",
      "Test at line 9 ok.\n",
      "Test at line 10 ok.\n",
      "Test at line 11 ok.\n",
      "Test at line 13 ok.\n",
      "Test at line 14 ok.\n",
      "Test at line 15 ok.\n"
     ]
    }
   ],
   "source": [
    "#task 4\n",
    "def day_add(n, d):\n",
    "    day = (day_num(n) + d) % 7\n",
    "    return day_name(day)\n",
    "\n",
    "\n",
    "def test_suite4():\n",
    "    test(day_add(\"Monday\", 4) ==  \"Friday\")\n",
    "    test(day_add(\"Tuesday\", 0) == \"Tuesday\")\n",
    "    test(day_add(\"Tuesday\", 14) == \"Tuesday\")\n",
    "    test(day_add(\"Sunday\", 100) == \"Tuesday\")\n",
    "# task 5\n",
    "    test(day_add(\"Sunday\", -1) == \"Saturday\")\n",
    "    test(day_add(\"Sunday\", -7) == \"Sunday\")\n",
    "    test(day_add(\"Tuesday\", -100) == \"Sunday\")\n",
    "# this works because the calculation used to determine the final day still works with negative numbers\n",
    "    \n",
    "test_suite4()"
   ]
  },
  {
   "cell_type": "code",
   "execution_count": 5,
   "metadata": {},
   "outputs": [
    {
     "name": "stdout",
     "output_type": "stream",
     "text": [
      "Test at line 31 ok.\n",
      "Test at line 32 ok.\n"
     ]
    }
   ],
   "source": [
    "# task 6\n",
    "\n",
    "def days_in_month(n):\n",
    "    if n == \"January\":\n",
    "        return 31\n",
    "    if n == \"February\":\n",
    "        return 28\n",
    "    if n == \"March\":\n",
    "        return 30\n",
    "    if n == \"April\":\n",
    "        return 31\n",
    "    if n == \"May\":\n",
    "        return 30\n",
    "    if n == \"June\":\n",
    "        return 31\n",
    "    if n == \"July\":\n",
    "        return 30\n",
    "    if n == \"August\":\n",
    "        return 31\n",
    "    if n == \"September\":\n",
    "        return 30\n",
    "    if n == \"October\":\n",
    "        return 31\n",
    "    if n == \"November\":\n",
    "        return 30\n",
    "    if n == \"December\":\n",
    "        return 31\n",
    "    \n",
    "\n",
    "def test_suite5():\n",
    "    test(days_in_month(\"February\") == 28)\n",
    "    test(days_in_month(\"December\") == 31)\n",
    "    \n",
    "test_suite5()\n",
    "\n",
    "\n",
    "# I feel confident with fruitful functions so will leave the rest of the tasks"
   ]
  },
  {
   "cell_type": "markdown",
   "metadata": {},
   "source": [
    "# Chapter 8: strings"
   ]
  },
  {
   "cell_type": "code",
   "execution_count": 6,
   "metadata": {},
   "outputs": [
    {
     "name": "stdout",
     "output_type": "stream",
     "text": [
      "Jack\n",
      "Kack\n",
      "Lack\n",
      "Mack\n",
      "Nack\n",
      "Ouack\n",
      "Pack\n",
      "Quack\n"
     ]
    }
   ],
   "source": [
    "# 2\n",
    "prefixes = \"JKLMNOPQ\"\n",
    "suffix = \"ack\"\n",
    "\n",
    "for letter in prefixes:\n",
    "    if letter == \"O\" or letter == \"Q\":\n",
    "        print(letter + \"u\" + suffix)\n",
    "    else:\n",
    "        print(letter + suffix)"
   ]
  },
  {
   "cell_type": "code",
   "execution_count": 7,
   "metadata": {},
   "outputs": [
    {
     "name": "stdout",
     "output_type": "stream",
     "text": [
      "Test at line 9 ok.\n"
     ]
    }
   ],
   "source": [
    "# 3\n",
    "def count_letters(s, l):\n",
    "    count = 0\n",
    "    for i in s:\n",
    "        if i == l:\n",
    "            count += 1\n",
    "    return count\n",
    "\n",
    "test(count_letters(\"bananas\", \"a\") == 3)"
   ]
  },
  {
   "cell_type": "code",
   "execution_count": 8,
   "metadata": {},
   "outputs": [
    {
     "name": "stdout",
     "output_type": "stream",
     "text": [
      "Your text contains 293 words, of which 162 (55%) contain an \"e\".\n"
     ]
    }
   ],
   "source": [
    "# 5\n",
    "text = '''1:1 In the beginning God created the heaven and the earth.\n",
    "1:2 And the earth was without form, and void; and darkness was upon the face of the deep. And the Spirit of God moved upon the face of the waters.\n",
    "1:3 And God said, Let there be light: and there was light.\n",
    "1:4 And God saw the light, that it was good: and God divided the light from the darkness.\n",
    "1:5 And God called the light Day, and the darkness he called Night. And the evening and the morning were the first day.\n",
    "1:6 And God said, Let there be a firmament in the midst of the waters, and let it divide the waters from the waters.\n",
    "1:7 And God made the firmament, and divided the waters which were under the firmament from the waters which were above the firmament: and it was so.\n",
    "1:8 And God called the firmament Heaven. And the evening and the morning were the second day.\n",
    "1:9 And God said, Let the waters under the heaven be gathered together unto one place, and let the dry land appear: and it was so.\n",
    "1:10 And God called the dry land Earth; and the gathering together of the waters called he Seas: and God saw that it was good.\n",
    "1:11 And God said, Let the earth bring forth grass, the herb yielding seed, and the fruit tree yielding fruit after his kind, whose seed is in itself, upon the earth: and it was so.\n",
    "1:12 And the earth brought forth grass, and herb yielding seed after his kind, and the tree yielding fruit, whose seed was in itself, after his kind: and God saw that it was good.\n",
    "1:13 And the evening and the morning were the third day.'''\n",
    "\n",
    "punctuation = \"!\\\"#$%&'()*+,-./:;<=>?@[\\\\]^_`{|}~\"\n",
    "\n",
    "\n",
    "def analysis(s):\n",
    "    s_without_punct = \"\"\n",
    "    for letter in s:\n",
    "        if letter not in punctuation:\n",
    "            s_without_punct += letter\n",
    "\n",
    "    num = len(s_without_punct.split())\n",
    "    \n",
    "    count = 0\n",
    "    for i in s:\n",
    "        if i == \"e\":\n",
    "            count += 1\n",
    "        else:\n",
    "            None\n",
    "    \n",
    "    print('Your text contains {0} words, of which {1} ({2}%) contain an \"e\".'.format(num, count, round((count / num) * 100)))\n",
    "\n",
    "\n",
    "          \n",
    "analysis(text)\n",
    "          \n"
   ]
  },
  {
   "cell_type": "code",
   "execution_count": 9,
   "metadata": {},
   "outputs": [
    {
     "name": "stdout",
     "output_type": "stream",
     "text": [
      "   1   2   3   4   5   6   7   8   9  10  11  12\n",
      "-------------------------------------------------\n",
      "   1   2   3   4   5   6   7   8   9  10  11  12\n",
      "   2   4   6   8  10  12  14  16  18  20  22  24\n",
      "   3   6   9  12  15  18  21  24  27  30  33  36\n",
      "   4   8  12  16  20  24  28  32  36  40  44  48\n",
      "   5  10  15  20  25  30  35  40  45  50  55  60\n",
      "   6  12  18  24  30  36  42  48  54  60  66  72\n",
      "   7  14  21  28  35  42  49  56  63  70  77  84\n",
      "   8  16  24  32  40  48  56  64  72  80  88  96\n",
      "   9  18  27  36  45  54  63  72  81  90  99 108\n",
      "  10  20  30  40  50  60  70  80  90 100 110 120\n",
      "  11  22  33  44  55  66  77  88  99 110 121 132\n",
      "  12  24  36  48  60  72  84  96 108 120 132 144\n"
     ]
    }
   ],
   "source": [
    "# 6\n",
    "layout = \"{0:>4}{1:>4}{2:>4}{3:>4}{4:>4}{5:>4}{6:>4}{7:>4}{8:>4}{9:>4}{10:>4}{11:>4}\"\n",
    "\n",
    "print(layout.format(\"1\", \"2\", \"3\", \"4\", \"5\", \"6\", \"7\", \"8\", \"9\", \"10\", \"11\", \"12\"))\n",
    "print(\"-------------------------------------------------\")\n",
    "for i in range(1, 13):\n",
    "    print(layout.format(i, i*2, i*3, i*4, i*5, i*6, i*7, i*8, i*9, i*10, i*11, i*12))\n",
    "    \n"
   ]
  },
  {
   "cell_type": "markdown",
   "metadata": {},
   "source": [
    "# Chaper 11: Lists"
   ]
  },
  {
   "cell_type": "code",
   "execution_count": 10,
   "metadata": {},
   "outputs": [
    {
     "data": {
      "text/plain": [
       "[10, 8, 6, 4, 2]"
      ]
     },
     "execution_count": 10,
     "metadata": {},
     "output_type": "execute_result"
    }
   ],
   "source": [
    "# 1\n",
    "list(range(10, 0, -2))"
   ]
  },
  {
   "cell_type": "code",
   "execution_count": 11,
   "metadata": {},
   "outputs": [
    {
     "data": {
      "text/plain": [
       "[]"
      ]
     },
     "execution_count": 11,
     "metadata": {},
     "output_type": "execute_result"
    }
   ],
   "source": [
    "list(range(10, 20, -2))"
   ]
  },
  {
   "cell_type": "code",
   "execution_count": 12,
   "metadata": {},
   "outputs": [],
   "source": [
    "# if step < 0, start > stop\n",
    "# if step > 0, start < stop"
   ]
  },
  {
   "cell_type": "code",
   "execution_count": 13,
   "metadata": {},
   "outputs": [],
   "source": [
    "# 2\n",
    "import turtle\n",
    "\n",
    "tess = turtle.Turtle()\n",
    "alex = tess\n",
    "alex.color(\"hotpink\")\n",
    "\n",
    "# Only one instance of a turtle, which is Turtle.turtle\n",
    "# Alex and Tess are just different names for this turtle \n",
    "# since this turtle is called both Alex and Tess, you can use either name to change the colour"
   ]
  },
  {
   "cell_type": "code",
   "execution_count": 14,
   "metadata": {},
   "outputs": [],
   "source": [
    "# 3\n",
    "a = [1, 2, 3]\n",
    "b = a[:]\n",
    "b[0] = 5\n",
    "\n",
    "# a = [1, 2, 3] always\n",
    "# b = [1, 2, 3] before\n",
    "# b = [5, 2, 3] after"
   ]
  },
  {
   "cell_type": "code",
   "execution_count": 15,
   "metadata": {},
   "outputs": [
    {
     "name": "stdout",
     "output_type": "stream",
     "text": [
      "Test 1: False\n",
      "Test 2: True\n"
     ]
    }
   ],
   "source": [
    "# 4\n",
    "this = [\"I\", \"am\", \"not\", \"a\", \"crook\"]\n",
    "that = [\"I\", \"am\", \"not\", \"a\", \"crook\"]\n",
    "print(\"Test 1: {0}\".format(this is that))\n",
    "that = this\n",
    "print(\"Test 2: {0}\".format(this is that))\n",
    "\n",
    "# this and that have the same value, but are not the same since they do not refer to the same object\n",
    "# ie, the list is the object, not th values within the list\n",
    "# By setting that = this, they then become the same "
   ]
  },
  {
   "cell_type": "code",
   "execution_count": 16,
   "metadata": {},
   "outputs": [
    {
     "name": "stdout",
     "output_type": "stream",
     "text": [
      "Test at line 17 ok.\n",
      "Test at line 18 ok.\n",
      "Test at line 19 ok.\n"
     ]
    }
   ],
   "source": [
    "# 5\n",
    "def add_vectors(u, v):\n",
    "      \n",
    "    if len(u) == 2:\n",
    "        x = u[0] + v[0]\n",
    "        y = u[1] + v[1]\n",
    "        sum = [x, y]\n",
    "    \n",
    "    if len(u) == 3:\n",
    "        x = u[0] + v[0]\n",
    "        y = u[1] + v[1]\n",
    "        z = u[2] + v[2]\n",
    "        sum = [x, y, z]\n",
    "        \n",
    "    return sum\n",
    "    \n",
    "test(add_vectors([1, 1], [1, 1]) == [2, 2])\n",
    "test(add_vectors([1, 2], [1, 4]) == [2, 6])\n",
    "test(add_vectors([1, 2, 1], [1, 4, 3]) == [2, 6, 4])"
   ]
  },
  {
   "cell_type": "code",
   "execution_count": 17,
   "metadata": {},
   "outputs": [
    {
     "name": "stdout",
     "output_type": "stream",
     "text": [
      "Test at line 11 ok.\n",
      "Test at line 15 ok.\n",
      "Test at line 18 ok.\n"
     ]
    }
   ],
   "source": [
    "# 10\n",
    "\n",
    "def replace(s, old, new):\n",
    "    a = s.split(old)\n",
    "    glue = new\n",
    "    b = glue.join(a)\n",
    "    return b\n",
    "    \n",
    "\n",
    "\n",
    "test(replace(\"Mississippi\", \"i\", \"I\") == \"MIssIssIppI\")\n",
    "\n",
    "s = \"I love spom! Spom is my favorite food. Spom, spom, yum!\"\n",
    "test(replace(s, \"om\", \"am\") ==\n",
    "    \"I love spam! Spam is my favorite food. Spam, spam, yum!\")\n",
    "\n",
    "test(replace(s, \"o\", \"a\") ==\n",
    "    \"I lave spam! Spam is my favarite faad. Spam, spam, yum!\")"
   ]
  },
  {
   "cell_type": "markdown",
   "metadata": {},
   "source": [
    "# Chapter 20"
   ]
  },
  {
   "cell_type": "code",
   "execution_count": 18,
   "metadata": {},
   "outputs": [
    {
     "data": {
      "text/plain": [
       "{'T': 1,\n",
       " 'h': 2,\n",
       " 'i': 4,\n",
       " 'S': 2,\n",
       " ' ': 8,\n",
       " 's': 3,\n",
       " 't': 4,\n",
       " 'r': 4,\n",
       " 'n': 2,\n",
       " 'g': 1,\n",
       " 'w': 2,\n",
       " 'U': 1,\n",
       " 'p': 2,\n",
       " 'e': 5,\n",
       " 'a': 2,\n",
       " 'd': 1,\n",
       " 'l': 1,\n",
       " 'o': 1,\n",
       " 'c': 1,\n",
       " 'L': 1}"
      ]
     },
     "execution_count": 18,
     "metadata": {},
     "output_type": "execute_result"
    }
   ],
   "source": [
    "#1\n",
    "string = list('ThiS is String with Upper and lower case Letters')\n",
    "letter_counts = {}\n",
    "\n",
    "for letter in string:\n",
    "    letter_counts[letter] = letter_counts.get(letter, 0) + 1\n",
    "    \n",
    "letter_counts\n"
   ]
  },
  {
   "cell_type": "code",
   "execution_count": 22,
   "metadata": {},
   "outputs": [
    {
     "name": "stdout",
     "output_type": "stream",
     "text": [
      "Test at line 14 ok.\n",
      "Test at line 15 ok.\n",
      "Test at line 18 ok.\n"
     ]
    }
   ],
   "source": [
    "#2\n",
    "def add_fruit(inventory, fruit, quantity=0):\n",
    "    \n",
    "    if fruit in inventory:\n",
    "        inventory[fruit] += quantity\n",
    "    else:\n",
    "        inventory[fruit] = inventory.get(fruit, quantity)\n",
    "    return\n",
    "\n",
    "\n",
    "new_inventory = {}\n",
    "add_fruit(new_inventory, \"strawberries\", 10)\n",
    "\n",
    "test(\"strawberries\" in new_inventory)\n",
    "test(new_inventory[\"strawberries\"] == 10)\n",
    "\n",
    "add_fruit(new_inventory, \"strawberries\", 25)\n",
    "test(new_inventory[\"strawberries\"] == 35)"
   ]
  }
 ],
 "metadata": {
  "kernelspec": {
   "display_name": "Python 3",
   "language": "python",
   "name": "python3"
  },
  "language_info": {
   "codemirror_mode": {
    "name": "ipython",
    "version": 3
   },
   "file_extension": ".py",
   "mimetype": "text/x-python",
   "name": "python",
   "nbconvert_exporter": "python",
   "pygments_lexer": "ipython3",
   "version": "3.7.6"
  }
 },
 "nbformat": 4,
 "nbformat_minor": 4
}
